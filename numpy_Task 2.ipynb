{
 "cells": [
  {
   "cell_type": "code",
   "execution_count": 1,
   "id": "bbf42b28-ef54-4e3a-a2b9-4061a0d64834",
   "metadata": {},
   "outputs": [],
   "source": [
    "import numpy as np"
   ]
  },
  {
   "cell_type": "code",
   "execution_count": 2,
   "id": "c46eee0e-5d9a-4a09-ac38-efdfe71f596f",
   "metadata": {},
   "outputs": [],
   "source": [
    "Student_Data = {\"St_1\":{'Math':85,'Urdu':70,'Sindhi':40,'Chemistry':90,'Physics':60},             \n",
    "                'St_2':{'Math':85,'Urdu':75,'Sindhi':40,'Chemistry':90,'Physics':60},\n",
    "                'St_3':{'Math':80,'Urdu':70,'Sindhi':95,'Chemistry':90,'Physics':60},\n",
    "                'St_4':{'Math':80,'Urdu':70,'Sindhi':50,'Chemistry':85,'Physics':60},\n",
    "                'St_5':{'Math':80,'Urdu':75,'Sindhi':40,'Chemistry':90,'Physics':60}}"
   ]
  },
  {
   "cell_type": "code",
   "execution_count": 3,
   "id": "be0404b1-2919-47a8-926c-69e83a20475e",
   "metadata": {},
   "outputs": [],
   "source": [
    "student_ID = list(Student_Data.keys())"
   ]
  },
  {
   "cell_type": "code",
   "execution_count": 4,
   "id": "5e698f4d-1178-4f75-9b33-7ba13361ec3e",
   "metadata": {},
   "outputs": [
    {
     "data": {
      "text/plain": [
       "['St_1', 'St_2', 'St_3', 'St_4', 'St_5']"
      ]
     },
     "execution_count": 4,
     "metadata": {},
     "output_type": "execute_result"
    }
   ],
   "source": [
    "student_ID"
   ]
  },
  {
   "cell_type": "code",
   "execution_count": 5,
   "id": "a2325c60-14da-4905-ae30-309c1ee5b514",
   "metadata": {},
   "outputs": [
    {
     "data": {
      "text/plain": [
       "[{'Math': 85, 'Urdu': 70, 'Sindhi': 40, 'Chemistry': 90, 'Physics': 60},\n",
       " {'Math': 85, 'Urdu': 75, 'Sindhi': 40, 'Chemistry': 90, 'Physics': 60},\n",
       " {'Math': 80, 'Urdu': 70, 'Sindhi': 95, 'Chemistry': 90, 'Physics': 60},\n",
       " {'Math': 80, 'Urdu': 70, 'Sindhi': 50, 'Chemistry': 85, 'Physics': 60},\n",
       " {'Math': 80, 'Urdu': 75, 'Sindhi': 40, 'Chemistry': 90, 'Physics': 60}]"
      ]
     },
     "execution_count": 5,
     "metadata": {},
     "output_type": "execute_result"
    }
   ],
   "source": [
    "student = list(Student_Data.values())\n",
    "student"
   ]
  },
  {
   "cell_type": "code",
   "execution_count": 6,
   "id": "6c83433c-1a14-4532-bc8f-c5f3770587ba",
   "metadata": {},
   "outputs": [],
   "source": [
    "s = student[0]"
   ]
  },
  {
   "cell_type": "code",
   "execution_count": 7,
   "id": "b5ee40a8-fbce-42ae-ab4d-bceb9eac0d12",
   "metadata": {},
   "outputs": [],
   "source": [
    "subjects = list(s.keys())"
   ]
  },
  {
   "cell_type": "code",
   "execution_count": 8,
   "id": "40ece867-321b-49e0-9212-d68fde89bbb2",
   "metadata": {},
   "outputs": [
    {
     "data": {
      "text/plain": [
       "['Math', 'Urdu', 'Sindhi', 'Chemistry', 'Physics']"
      ]
     },
     "execution_count": 8,
     "metadata": {},
     "output_type": "execute_result"
    }
   ],
   "source": [
    "subjects"
   ]
  },
  {
   "cell_type": "code",
   "execution_count": 9,
   "id": "6226d910-cf25-4fef-95da-43947af02642",
   "metadata": {},
   "outputs": [],
   "source": [
    "student1 = [list(marks.values()) for marks in Student_Data.values()]"
   ]
  },
  {
   "cell_type": "code",
   "execution_count": 10,
   "id": "ccb50404-2896-4a24-b969-2134ad5e37c7",
   "metadata": {},
   "outputs": [
    {
     "data": {
      "text/plain": [
       "[[85, 70, 40, 90, 60],\n",
       " [85, 75, 40, 90, 60],\n",
       " [80, 70, 95, 90, 60],\n",
       " [80, 70, 50, 85, 60],\n",
       " [80, 75, 40, 90, 60]]"
      ]
     },
     "execution_count": 10,
     "metadata": {},
     "output_type": "execute_result"
    }
   ],
   "source": [
    "student1"
   ]
  },
  {
   "cell_type": "code",
   "execution_count": 11,
   "id": "0bd64a68-d642-4a22-9851-fbf6ec773e72",
   "metadata": {},
   "outputs": [],
   "source": [
    "student1 = np.array(student1)"
   ]
  },
  {
   "cell_type": "code",
   "execution_count": 12,
   "id": "3f8561a5-d287-4fbb-b05a-672e02008de3",
   "metadata": {},
   "outputs": [
    {
     "name": "stdout",
     "output_type": "stream",
     "text": [
      "[0 1 2 0 0] [2 0 0 3 0]\n"
     ]
    }
   ],
   "source": [
    "max_subjects = student1.argmax(axis=0)\n",
    "min_subjects = student1.argmin(axis=0)\n",
    "print(max_subjects , min_subjects)"
   ]
  },
  {
   "cell_type": "code",
   "execution_count": 13,
   "id": "7f8bb3f5-6908-4f99-9c9a-69cc1531cf12",
   "metadata": {},
   "outputs": [
    {
     "name": "stdout",
     "output_type": "stream",
     "text": [
      "[3 3 2 3 3] [2 2 4 2 2]\n"
     ]
    }
   ],
   "source": [
    "max_student = student1.argmax(axis=1)\n",
    "min_student = student1.argmin(axis=1)\n",
    "print(max_student , min_student)"
   ]
  },
  {
   "cell_type": "code",
   "execution_count": 19,
   "id": "ce7d78ec-4d29-4ada-9da9-5afb8090940e",
   "metadata": {},
   "outputs": [
    {
     "name": "stdout",
     "output_type": "stream",
     "text": [
      "St_1, Math: max_marks:85, min_marks:80\n",
      "St_2, Urdu: max_marks:75, min_marks:70\n",
      "St_3, Sindhi: max_marks:95, min_marks:40\n",
      "St_4, Chemistry: max_marks:90, min_marks:85\n",
      "St_5, Physics: max_marks:60, min_marks:60\n",
      "----------------------------------------\n",
      " student no:1\n",
      "max_marks: 90, min_marks:40\n",
      "subject: Chemistry,Sindhi\n",
      "____________________\n",
      " student no:2\n",
      "max_marks: 90, min_marks:40\n",
      "subject: Chemistry,Sindhi\n",
      "____________________\n",
      " student no:3\n",
      "max_marks: 95, min_marks:60\n",
      "subject: Sindhi,Physics\n",
      "____________________\n",
      " student no:4\n",
      "max_marks: 85, min_marks:50\n",
      "subject: Chemistry,Sindhi\n",
      "____________________\n",
      " student no:5\n",
      "max_marks: 90, min_marks:40\n",
      "subject: Chemistry,Sindhi\n",
      "____________________\n",
      "----------------------------------------\n"
     ]
    }
   ],
   "source": [
    "for i, (ID,subject) in enumerate(zip(student_ID,subjects)):\n",
    "    print(f\"{ID}, {subject}: max_marks:{student1[max_subjects[i],i]}, min_marks:{student1[min_subjects[i],i]}\")\n",
    "print(\"----------------------------------------\")\n",
    "for loc, (student) in enumerate(student1):\n",
    "    print(f\" student no:{loc+1}\\nmax_marks: {student[max_student[loc]]}, min_marks:{student[min_student[loc]]}\\nsubject: {subjects[max_student[loc]]},{subjects[min_student[loc]]}\")\n",
    "    print(\"____________________\")\n",
    "print(\"----------------------------------------\")"
   ]
  },
  {
   "cell_type": "code",
   "execution_count": 15,
   "id": "05067c12-ae89-4d5e-802a-1191a414dab3",
   "metadata": {},
   "outputs": [
    {
     "data": {
      "text/plain": [
       "array([345, 350, 395, 345, 345])"
      ]
     },
     "execution_count": 15,
     "metadata": {},
     "output_type": "execute_result"
    }
   ],
   "source": [
    "student_total = student1.sum(axis=1)\n",
    "student_total"
   ]
  },
  {
   "cell_type": "code",
   "execution_count": 16,
   "id": "0e55ce1c-6a3b-49b4-b5d7-f9745723e6d9",
   "metadata": {},
   "outputs": [
    {
     "data": {
      "text/plain": [
       "array([2, 1, 4, 3, 0])"
      ]
     },
     "execution_count": 16,
     "metadata": {},
     "output_type": "execute_result"
    }
   ],
   "source": [
    "rank_index = student_total.argsort()[::-1]\n",
    "rank_index"
   ]
  },
  {
   "cell_type": "code",
   "execution_count": 17,
   "id": "6ada8278-73a6-4134-9d36-fb1cde38a277",
   "metadata": {},
   "outputs": [
    {
     "name": "stdout",
     "output_type": "stream",
     "text": [
      "St_1: Rank_1, Total :395\n",
      "St_2: Rank_2, Total :350\n",
      "St_3: Rank_3, Total :345\n",
      "St_4: Rank_4, Total :345\n",
      "St_5: Rank_5, Total :345\n"
     ]
    }
   ],
   "source": [
    "for loc, (ID) in enumerate(student_ID):\n",
    "    print(f\"{ID}: Rank_{loc+1}, Total :{student_total[rank_index[loc]]}\")"
   ]
  },
  {
   "cell_type": "code",
   "execution_count": null,
   "id": "c72cfb63-7199-42e7-a87d-aefcdbc0a569",
   "metadata": {},
   "outputs": [],
   "source": []
  },
  {
   "cell_type": "code",
   "execution_count": null,
   "id": "61a63db1-e750-4146-b123-84eb617bec1d",
   "metadata": {},
   "outputs": [],
   "source": []
  }
 ],
 "metadata": {
  "kernelspec": {
   "display_name": "Python 3 (ipykernel)",
   "language": "python",
   "name": "python3"
  },
  "language_info": {
   "codemirror_mode": {
    "name": "ipython",
    "version": 3
   },
   "file_extension": ".py",
   "mimetype": "text/x-python",
   "name": "python",
   "nbconvert_exporter": "python",
   "pygments_lexer": "ipython3",
   "version": "3.13.6"
  }
 },
 "nbformat": 4,
 "nbformat_minor": 5
}
