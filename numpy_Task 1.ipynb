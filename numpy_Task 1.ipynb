{
 "cells": [
  {
   "cell_type": "code",
   "execution_count": 26,
   "id": "1edfcec3-2a2c-4cee-bf3c-22ed1d3b82fd",
   "metadata": {},
   "outputs": [],
   "source": [
    "import numpy as np"
   ]
  },
  {
   "cell_type": "code",
   "execution_count": 27,
   "id": "1e1206c3-4219-49e4-a7b8-ba5afed9c5f7",
   "metadata": {},
   "outputs": [],
   "source": [
    "temps = np.array([[30,32,31,29,28,27,26],\n",
    "                  [22,21,23,24,25,26,24],\n",
    "                  [15,17,16,18,19,20,21]])"
   ]
  },
  {
   "cell_type": "code",
   "execution_count": 28,
   "id": "49183011-e8f7-40d8-bb0b-44238bd82fa2",
   "metadata": {},
   "outputs": [
    {
     "data": {
      "text/plain": [
       "array([[30, 32, 31, 29, 28, 27, 26],\n",
       "       [22, 21, 23, 24, 25, 26, 24],\n",
       "       [15, 17, 16, 18, 19, 20, 21]])"
      ]
     },
     "execution_count": 28,
     "metadata": {},
     "output_type": "execute_result"
    }
   ],
   "source": [
    "temps"
   ]
  },
  {
   "cell_type": "code",
   "execution_count": 29,
   "id": "aa2fd670-7ba2-4102-a8f7-4db91f885518",
   "metadata": {},
   "outputs": [
    {
     "data": {
      "text/plain": [
       "(3, 7)"
      ]
     },
     "execution_count": 29,
     "metadata": {},
     "output_type": "execute_result"
    }
   ],
   "source": [
    "temps.shape"
   ]
  },
  {
   "cell_type": "code",
   "execution_count": 45,
   "id": "6fce3f0e-b4bf-4d36-b0d1-fd6d5b859e9d",
   "metadata": {},
   "outputs": [
    {
     "data": {
      "text/plain": [
       "np.int64(32)"
      ]
     },
     "execution_count": 45,
     "metadata": {},
     "output_type": "execute_result"
    }
   ],
   "source": [
    "cityA_max =temps[0].max()\n",
    "cityA_max"
   ]
  },
  {
   "cell_type": "code",
   "execution_count": 31,
   "id": "a9334552-c257-4559-8548-94ab296b8138",
   "metadata": {},
   "outputs": [
    {
     "data": {
      "text/plain": [
       "['Monday', 'Tuesday', 'Wednesday', 'Thursday', 'Friday', 'Saturaday', 'Sunday']"
      ]
     },
     "execution_count": 31,
     "metadata": {},
     "output_type": "execute_result"
    }
   ],
   "source": [
    "Days = ['Monday','Tuesday','Wednesday','Thursday','Friday','Saturaday','Sunday']\n",
    "Days"
   ]
  },
  {
   "cell_type": "code",
   "execution_count": 32,
   "id": "51806042-2a1f-40e8-885f-b0997a3490d4",
   "metadata": {},
   "outputs": [
    {
     "data": {
      "text/plain": [
       "array([1, 5, 6])"
      ]
     },
     "execution_count": 32,
     "metadata": {},
     "output_type": "execute_result"
    }
   ],
   "source": [
    "city_temp = temps.argmax(axis=1)\n",
    "city_temp"
   ]
  },
  {
   "cell_type": "code",
   "execution_count": 33,
   "id": "dc1b5706-f358-4cab-b641-e0ade4d6b4ab",
   "metadata": {},
   "outputs": [
    {
     "data": {
      "text/plain": [
       "array([0, 0, 0, 0, 0, 0, 0])"
      ]
     },
     "execution_count": 33,
     "metadata": {},
     "output_type": "execute_result"
    }
   ],
   "source": [
    "day_temp =temps.argmax(axis=0)\n",
    "day_temp"
   ]
  },
  {
   "cell_type": "code",
   "execution_count": 42,
   "id": "f2f7391b-669f-4e12-b1ba-2f6fdf2a1f4d",
   "metadata": {
    "scrolled": true
   },
   "outputs": [
    {
     "name": "stdout",
     "output_type": "stream",
     "text": [
      " Monday: Temperature:30\n",
      " Tuesday: Temperature:32\n",
      " Wednesday: Temperature:31\n",
      " Thursday: Temperature:29\n",
      " Friday: Temperature:28\n",
      " Saturaday: Temperature:27\n",
      " Sunday: Temperature:26\n",
      "---------------------------\n",
      " High_Temprature_Days: Tuesday\n",
      "---------------------------\n",
      "---------------------------\n",
      " High_Temprature_Days: Saturaday\n",
      "---------------------------\n",
      "---------------------------\n",
      " High_Temprature_Days: Sunday\n",
      "---------------------------\n",
      "city_A temperature is higher\n"
     ]
    }
   ],
   "source": [
    "for i, day in enumerate(Days):\n",
    "    print(f\" {day}: Temperature:{temps[day_temp[i],i]}\")\n",
    "for i in range(len(temps)):\n",
    "    print(\"---------------------------\")\n",
    "    print(f\" High_Temprature_Days: {Days[city_temp[i]]}\") \n",
    "    print(\"---------------------------\")\n"
   ]
  },
  {
   "cell_type": "code",
   "execution_count": 43,
   "id": "fa809640-432f-4429-a886-11b50c7e290c",
   "metadata": {},
   "outputs": [
    {
     "data": {
      "text/plain": [
       "(array([30, 32, 31, 29, 28, 27, 26]), array([22, 21, 23, 24, 25, 26, 24]))"
      ]
     },
     "execution_count": 43,
     "metadata": {},
     "output_type": "execute_result"
    }
   ],
   "source": [
    "city_A = temps[0]\n",
    "city_B = temps[1]\n",
    "city_A , city_B"
   ]
  },
  {
   "cell_type": "code",
   "execution_count": 44,
   "id": "ec2975e1-8508-4671-9223-b55eea7e79de",
   "metadata": {},
   "outputs": [
    {
     "name": "stdout",
     "output_type": "stream",
     "text": [
      "city_A temperature is higher\n"
     ]
    }
   ],
   "source": [
    "if temps[0].max() > temps[1].max():\n",
    "    print(\"city_A temperature is higher\")\n",
    "else:\n",
    "    print('city_B temperature is higher')\n"
   ]
  },
  {
   "cell_type": "code",
   "execution_count": null,
   "id": "68fcf27e-c377-40f5-9d87-2dd9a2a49e8d",
   "metadata": {},
   "outputs": [],
   "source": []
  }
 ],
 "metadata": {
  "kernelspec": {
   "display_name": "Python 3 (ipykernel)",
   "language": "python",
   "name": "python3"
  },
  "language_info": {
   "codemirror_mode": {
    "name": "ipython",
    "version": 3
   },
   "file_extension": ".py",
   "mimetype": "text/x-python",
   "name": "python",
   "nbconvert_exporter": "python",
   "pygments_lexer": "ipython3",
   "version": "3.13.6"
  }
 },
 "nbformat": 4,
 "nbformat_minor": 5
}
